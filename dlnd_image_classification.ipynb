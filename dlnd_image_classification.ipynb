{
 "cells": [
  {
   "cell_type": "markdown",
   "metadata": {
    "collapsed": true
   },
   "source": [
    "# Image Classification\n",
    "In this project, you'll classify images from the [CIFAR-10 dataset](https://www.cs.toronto.edu/~kriz/cifar.html).  The dataset consists of airplanes, dogs, cats, and other objects. You'll preprocess the images, then train a convolutional neural network on all the samples. The images need to be normalized and the labels need to be one-hot encoded.  You'll get to apply what you learned and build a convolutional, max pooling, dropout, and fully connected layers.  At the end, you'll get to see your neural network's predictions on the sample images.\n",
    "## Get the Data\n",
    "Run the following cell to download the [CIFAR-10 dataset for python](https://www.cs.toronto.edu/~kriz/cifar-10-python.tar.gz)."
   ]
  },
  {
   "cell_type": "code",
   "execution_count": 1,
   "metadata": {},
   "outputs": [
    {
     "name": "stdout",
     "output_type": "stream",
     "text": [
      "All files found!\n"
     ]
    }
   ],
   "source": [
    "\"\"\"\n",
    "DON'T MODIFY ANYTHING IN THIS CELL THAT IS BELOW THIS LINE\n",
    "\"\"\"\n",
    "from urllib.request import urlretrieve\n",
    "from os.path import isfile, isdir\n",
    "from tqdm import tqdm\n",
    "import problem_unittests as tests\n",
    "import tarfile\n",
    "\n",
    "cifar10_dataset_folder_path = 'cifar-10-batches-py'\n",
    "\n",
    "# Use Floyd's cifar-10 dataset if present\n",
    "floyd_cifar10_location = '/cifar/cifar-10-python.tar.gz'\n",
    "if isfile(floyd_cifar10_location):\n",
    "    tar_gz_path = floyd_cifar10_location\n",
    "else:\n",
    "    tar_gz_path = 'cifar-10-python.tar.gz'\n",
    "\n",
    "class DLProgress(tqdm):\n",
    "    last_block = 0\n",
    "\n",
    "    def hook(self, block_num=1, block_size=1, total_size=None):\n",
    "        self.total = total_size\n",
    "        self.update((block_num - self.last_block) * block_size)\n",
    "        self.last_block = block_num\n",
    "\n",
    "if not isfile(tar_gz_path):\n",
    "    with DLProgress(unit='B', unit_scale=True, miniters=1, desc='CIFAR-10 Dataset') as pbar:\n",
    "        urlretrieve(\n",
    "            'https://www.cs.toronto.edu/~kriz/cifar-10-python.tar.gz',\n",
    "            tar_gz_path,\n",
    "            pbar.hook)\n",
    "\n",
    "if not isdir(cifar10_dataset_folder_path):\n",
    "    with tarfile.open(tar_gz_path) as tar:\n",
    "        tar.extractall()\n",
    "        tar.close()\n",
    "\n",
    "\n",
    "tests.test_folder_path(cifar10_dataset_folder_path)"
   ]
  },
  {
   "cell_type": "markdown",
   "metadata": {},
   "source": [
    "## Explore the Data\n",
    "The dataset is broken into batches to prevent your machine from running out of memory.  The CIFAR-10 dataset consists of 5 batches, named `data_batch_1`, `data_batch_2`, etc.. Each batch contains the labels and images that are one of the following:\n",
    "* airplane\n",
    "* automobile\n",
    "* bird\n",
    "* cat\n",
    "* deer\n",
    "* dog\n",
    "* frog\n",
    "* horse\n",
    "* ship\n",
    "* truck\n",
    "\n",
    "Understanding a dataset is part of making predictions on the data.  Play around with the code cell below by changing the `batch_id` and `sample_id`. The `batch_id` is the id for a batch (1-5). The `sample_id` is the id for a image and label pair in the batch.\n",
    "\n",
    "Ask yourself \"What are all possible labels?\", \"What is the range of values for the image data?\", \"Are the labels in order or random?\".  Answers to questions like these will help you preprocess the data and end up with better predictions."
   ]
  },
  {
   "cell_type": "code",
   "execution_count": 2,
   "metadata": {},
   "outputs": [
    {
     "name": "stdout",
     "output_type": "stream",
     "text": [
      "\n",
      "Stats of batch 5:\n",
      "Samples: 10000\n",
      "Label Counts: {0: 1014, 1: 1014, 2: 952, 3: 1016, 4: 997, 5: 1025, 6: 980, 7: 977, 8: 1003, 9: 1022}\n",
      "First 20 Labels: [1, 8, 5, 1, 5, 7, 4, 3, 8, 2, 7, 2, 0, 1, 5, 9, 6, 2, 0, 8]\n",
      "\n",
      "Example of Image 200:\n",
      "Image - Min Value: 10 Max Value: 232\n",
      "Image - Shape: (32, 32, 3)\n",
      "Label - Label Id: 6 Name: frog\n"
     ]
    },
    {
     "data": {
      "image/png": "[encoded data removed]",
      "text/plain": [
       "<matplotlib.figure.Figure at 0x7f14cfb5bb70>"
      ]
     },
     "metadata": {
      "image/png": {
       "height": 250,
       "width": 253
      }
     },
     "output_type": "display_data"
    }
   ],
   "source": [
    "%matplotlib inline\n",
    "%config InlineBackend.figure_format = 'retina'\n",
    "\n",
    "import helper\n",
    "import numpy as np\n",
    "\n",
    "# Explore the dataset\n",
    "batch_id = 5\n",
    "sample_id = 200\n",
    "helper.display_stats(cifar10_dataset_folder_path, batch_id, sample_id)"
   ]
  },
  {
   "cell_type": "markdown",
   "metadata": {},
   "source": [
    "## Implement Preprocess Functions\n",
    "### Normalize\n",
    "In the cell below, implement the `normalize` function to take in image data, `x`, and return it as a normalized Numpy array. The values should be in the range of 0 to 1, inclusive.  The return object should be the same shape as `x`."
   ]
  },
  {
   "cell_type": "code",
   "execution_count": 3,
   "metadata": {},
   "outputs": [
    {
     "name": "stdout",
     "output_type": "stream",
     "text": [
      "Tests Passed\n"
     ]
    }
   ],
   "source": [
    "def normalize(x):\n",
    "    \"\"\"\n",
    "    Normalize a list of sample image data in the range of 0 to 1\n",
    "    : x: List of image data.  The image shape is (32, 32, 3)\n",
    "    : return: Numpy array of normalize data\n",
    "    \"\"\"\n",
    "    # TODO: Implement Function\n",
    "    #return None\n",
    "    return x / x.max(axis=0)\n",
    "\n",
    "\"\"\"\n",
    "DON'T MODIFY ANYTHING IN THIS CELL THAT IS BELOW THIS LINE\n",
    "\"\"\"\n",
    "tests.test_normalize(normalize)"
   ]
  },
  {
   "cell_type": "markdown",
   "metadata": {},
   "source": [
    "### One-hot encode\n",
    "Just like the previous code cell, you'll be implementing a function for preprocessing.  This time, you'll implement the `one_hot_encode` function. The input, `x`, are a list of labels.  Implement the function to return the list of labels as One-Hot encoded Numpy array.  The possible values for labels are 0 to 9. The one-hot encoding function should return the same encoding for each value between each call to `one_hot_encode`.  Make sure to save the map of encodings outside the function.\n",
    "\n",
    "Hint: Don't reinvent the wheel."
   ]
  },
  {
   "cell_type": "code",
   "execution_count": 4,
   "metadata": {},
   "outputs": [
    {
     "name": "stdout",
     "output_type": "stream",
     "text": [
      "Tests Passed\n"
     ]
    }
   ],
   "source": [
    "def one_hot_encode(x):\n",
    "    \"\"\"\n",
    "    One hot encode a list of sample labels. Return a one-hot encoded vector for each label.\n",
    "    : x: List of sample Labels\n",
    "    : return: Numpy array of one-hot encoded labels\n",
    "    \"\"\"\n",
    "    # TODO: Implement Function\n",
    "    #return None\n",
    "    labels = np.zeros((len(x), 10))\n",
    "    for i in range(len(x)):\n",
    "        labels[i,x[i]] = 1\n",
    "    return labels\n",
    "\n",
    "\"\"\"\n",
    "DON'T MODIFY ANYTHING IN THIS CELL THAT IS BELOW THIS LINE\n",
    "\"\"\"\n",
    "tests.test_one_hot_encode(one_hot_encode)"
   ]
  },
  {
   "cell_type": "markdown",
   "metadata": {},
   "source": [
    "### Randomize Data\n",
    "As you saw from exploring the data above, the order of the samples are randomized.  It doesn't hurt to randomize it again, but you don't need to for this dataset."
   ]
  },
  {
   "cell_type": "markdown",
   "metadata": {},
   "source": [
    "## Preprocess all the data and save it\n",
    "Running the code cell below will preprocess all the CIFAR-10 data and save it to file. The code below also uses 10% of the training data for validation."
   ]
  },
  {
   "cell_type": "code",
   "execution_count": 5,
   "metadata": {
    "collapsed": true
   },
   "outputs": [],
   "source": [
    "\"\"\"\n",
    "DON'T MODIFY ANYTHING IN THIS CELL\n",
    "\"\"\"\n",
    "# Preprocess Training, Validation, and Testing Data\n",
    "helper.preprocess_and_save_data(cifar10_dataset_folder_path, normalize, one_hot_encode)"
   ]
  },
  {
   "cell_type": "markdown",
   "metadata": {},
   "source": [
    "# Check Point\n",
    "This is your first checkpoint.  If you ever decide to come back to this notebook or have to restart the notebook, you can start from here.  The preprocessed data has been saved to disk."
   ]
  },
  {
   "cell_type": "code",
   "execution_count": 6,
   "metadata": {
    "collapsed": true
   },
   "outputs": [],
   "source": [
    "\"\"\"\n",
    "DON'T MODIFY ANYTHING IN THIS CELL\n",
    "\"\"\"\n",
    "import pickle\n",
    "import problem_unittests as tests\n",
    "import helper\n",
    "\n",
    "# Load the Preprocessed Validation data\n",
    "valid_features, valid_labels = pickle.load(open('preprocess_validation.p', mode='rb'))"
   ]
  },
  {
   "cell_type": "markdown",
   "metadata": {},
   "source": [
    "## Build the network\n",
    "For the neural network, you'll build each layer into a function.  Most of the code you've seen has been outside of functions. To test your code more thoroughly, we require that you put each layer in a function.  This allows us to give you better feedback and test for simple mistakes using our unittests before you submit your project.\n",
    "\n",
    ">**Note:** If you're finding it hard to dedicate enough time for this course each week, we've provided a small shortcut to this part of the project. In the next couple of problems, you'll have the option to use classes from the [TensorFlow Layers](https://www.tensorflow.org/api_docs/python/tf/layers) or [TensorFlow Layers (contrib)](https://www.tensorflow.org/api_guides/python/contrib.layers) packages to build each layer, except the layers you build in the \"Convolutional and Max Pooling Layer\" section.  TF Layers is similar to Keras's and TFLearn's abstraction to layers, so it's easy to pickup.\n",
    "\n",
    ">However, if you would like to get the most out of this course, try to solve all the problems _without_ using anything from the TF Layers packages. You **can** still use classes from other packages that happen to have the same name as ones you find in TF Layers! For example, instead of using the TF Layers version of the `conv2d` class, [tf.layers.conv2d](https://www.tensorflow.org/api_docs/python/tf/layers/conv2d), you would want to use the TF Neural Network version of `conv2d`, [tf.nn.conv2d](https://www.tensorflow.org/api_docs/python/tf/nn/conv2d). \n",
    "\n",
    "Let's begin!\n",
    "\n",
    "### Input\n",
    "The neural network needs to read the image data, one-hot encoded labels, and dropout keep probability. Implement the following functions\n",
    "* Implement `neural_net_image_input`\n",
    " * Return a [TF Placeholder](https://www.tensorflow.org/api_docs/python/tf/placeholder)\n",
    " * Set the shape using `image_shape` with batch size set to `None`.\n",
    " * Name the TensorFlow placeholder \"x\" using the TensorFlow `name` parameter in the [TF Placeholder](https://www.tensorflow.org/api_docs/python/tf/placeholder).\n",
    "* Implement `neural_net_label_input`\n",
    " * Return a [TF Placeholder](https://www.tensorflow.org/api_docs/python/tf/placeholder)\n",
    " * Set the shape using `n_classes` with batch size set to `None`.\n",
    " * Name the TensorFlow placeholder \"y\" using the TensorFlow `name` parameter in the [TF Placeholder](https://www.tensorflow.org/api_docs/python/tf/placeholder).\n",
    "* Implement `neural_net_keep_prob_input`\n",
    " * Return a [TF Placeholder](https://www.tensorflow.org/api_docs/python/tf/placeholder) for dropout keep probability.\n",
    " * Name the TensorFlow placeholder \"keep_prob\" using the TensorFlow `name` parameter in the [TF Placeholder](https://www.tensorflow.org/api_docs/python/tf/placeholder).\n",
    "\n",
    "These names will be used at the end of the project to load your saved model.\n",
    "\n",
    "Note: `None` for shapes in TensorFlow allow for a dynamic size."
   ]
  },
  {
   "cell_type": "code",
   "execution_count": 7,
   "metadata": {},
   "outputs": [
    {
     "name": "stdout",
     "output_type": "stream",
     "text": [
      "Image Input Tests Passed.\n",
      "Label Input Tests Passed.\n",
      "Keep Prob Tests Passed.\n"
     ]
    }
   ],
   "source": [
    "import tensorflow as tf\n",
    "\n",
    "def neural_net_image_input(image_shape):\n",
    "    \"\"\"\n",
    "    Return a Tensor for a batch of image input\n",
    "    : image_shape: Shape of the images\n",
    "    : return: Tensor for image input.\n",
    "    \"\"\"\n",
    "    # TODO: Implement Function\n",
    "    #return None\n",
    "    \n",
    "    return tf.placeholder(tf.float32,shape=[None, image_shape[0],image_shape[1],image_shape[2]],name='x')\n",
    "    #return None\n",
    "\n",
    "\n",
    "def neural_net_label_input(n_classes):\n",
    "    \"\"\"\n",
    "    Return a Tensor for a batch of label input\n",
    "    : n_classes: Number of classes\n",
    "    : return: Tensor for label input.\n",
    "    \"\"\"\n",
    "    # TODO: Implement Function\n",
    "    return tf.placeholder(tf.float32,shape=[None, n_classes],name='y')\n",
    "\n",
    "\n",
    "def neural_net_keep_prob_input():\n",
    "    \"\"\"\n",
    "    Return a Tensor for keep probability\n",
    "    : return: Tensor for keep probability.\n",
    "    \"\"\"\n",
    "    # TODO: Implement Function\n",
    "    return tf.placeholder(tf.float32,name='keep_prob')\n",
    "\n",
    "\n",
    "\"\"\"\n",
    "DON'T MODIFY ANYTHING IN THIS CELL THAT IS BELOW THIS LINE\n",
    "\"\"\"\n",
    "tf.reset_default_graph()\n",
    "tests.test_nn_image_inputs(neural_net_image_input)\n",
    "tests.test_nn_label_inputs(neural_net_label_input)\n",
    "tests.test_nn_keep_prob_inputs(neural_net_keep_prob_input)"
   ]
  },
  {
   "cell_type": "markdown",
   "metadata": {},
   "source": [
    "### Convolution and Max Pooling Layer\n",
    "Convolution layers have a lot of success with images. For this code cell, you should implement the function `conv2d_maxpool` to apply convolution then max pooling:\n",
    "* Create the weight and bias using `conv_ksize`, `conv_num_outputs` and the shape of `x_tensor`.\n",
    "* Apply a convolution to `x_tensor` using weight and `conv_strides`.\n",
    " * We recommend you use same padding, but you're welcome to use any padding.\n",
    "* Add bias\n",
    "* Add a nonlinear activation to the convolution.\n",
    "* Apply Max Pooling using `pool_ksize` and `pool_strides`.\n",
    " * We recommend you use same padding, but you're welcome to use any padding.\n",
    "\n",
    "**Note:** You **can't** use [TensorFlow Layers](https://www.tensorflow.org/api_docs/python/tf/layers) or [TensorFlow Layers (contrib)](https://www.tensorflow.org/api_guides/python/contrib.layers) for **this** layer, but you can still use TensorFlow's [Neural Network](https://www.tensorflow.org/api_docs/python/tf/nn) package. You may still use the shortcut option for all the **other** layers."
   ]
  },
  {
   "cell_type": "code",
   "execution_count": 8,
   "metadata": {},
   "outputs": [
    {
     "name": "stdout",
     "output_type": "stream",
     "text": [
      "Tests Passed\n"
     ]
    }
   ],
   "source": [
    "def conv2d_maxpool(x_tensor, conv_num_outputs, conv_ksize, conv_strides, pool_ksize, pool_strides):\n",
    "    \"\"\"\n",
    "    Apply convolution then max pooling to x_tensor\n",
    "    :param x_tensor: TensorFlow Tensor\n",
    "    :param conv_num_outputs: Number of outputs for the convolutional layer\n",
    "    :param conv_ksize: kernal size 2-D Tuple for the convolutional layer\n",
    "    :param conv_strides: Stride 2-D Tuple for convolution\n",
    "    :param pool_ksize: kernal size 2-D Tuple for pool\n",
    "    :param pool_strides: Stride 2-D Tuple for pool\n",
    "    : return: A tensor that represents convolution and max pooling of x_tensor\n",
    "    \"\"\"\n",
    "    # TODO: Implement Function\n",
    "    #return None \n",
    "    filter_height =conv_strides[0]\n",
    "    filter_width =conv_strides[1]\n",
    "    in_height = x_tensor.get_shape()[3]\n",
    "    #print(in_height,filter_height,filter_width)\n",
    "    weights = tf.Variable(tf.truncated_normal(shape = [filter_height, filter_width, int(in_height), conv_num_outputs], \n",
    "                                              mean = 0.0, \n",
    "                                              stddev=0.1, \n",
    "                                              dtype=tf.float32))\n",
    "    bias = tf.Variable(tf.zeros(conv_num_outputs)) \n",
    "    conv_layer = tf.nn.conv2d(x_tensor, weights, strides=[1,filter_height,filter_width,1], padding='SAME')\n",
    "    conv_layer = tf.nn.bias_add(conv_layer, bias)\n",
    "    conv_layer = tf.nn.relu(conv_layer)\n",
    "    return tf.nn.max_pool(conv_layer, [1,pool_ksize[0],pool_ksize[1],1], [1,pool_strides[0],pool_strides[1],1], padding='SAME')\n",
    "    #return None\n",
    "\n",
    "\"\"\"\n",
    "DON'T MODIFY ANYTHING IN THIS CELL THAT IS BELOW THIS LINE\n",
    "\"\"\"\n",
    "tests.test_con_pool(conv2d_maxpool)"
   ]
  },
  {
   "cell_type": "markdown",
   "metadata": {},
   "source": [
    "### Flatten Layer\n",
    "Implement the `flatten` function to change the dimension of `x_tensor` from a 4-D tensor to a 2-D tensor.  The output should be the shape (*Batch Size*, *Flattened Image Size*). Shortcut option: you can use classes from the [TensorFlow Layers](https://www.tensorflow.org/api_docs/python/tf/layers) or [TensorFlow Layers (contrib)](https://www.tensorflow.org/api_guides/python/contrib.layers) packages for this layer. For more of a challenge, only use other TensorFlow packages."
   ]
  },
  {
   "cell_type": "code",
   "execution_count": 9,
   "metadata": {},
   "outputs": [
    {
     "name": "stdout",
     "output_type": "stream",
     "text": [
      "(?, 10, 30, 6)\n",
      "Tests Passed\n"
     ]
    }
   ],
   "source": [
    "def flatten(x_tensor):\n",
    "    \"\"\"\n",
    "    Flatten x_tensor to (Batch Size, Flattened Image Size)\n",
    "    : x_tensor: A tensor of size (Batch Size, ...), where ... are the image dimensions.\n",
    "    : return: A tensor of size (Batch Size, Flattened Image Size).\n",
    "    \"\"\"\n",
    "    # TODO: Implement Function\n",
    "    print(x_tensor.get_shape())\n",
    "    return tf.reshape(x_tensor,[-1,int(x_tensor.get_shape()[1])*int(x_tensor.get_shape()[2])*int(x_tensor.get_shape()[3])])\n",
    "    \n",
    "\n",
    "\n",
    "\"\"\"\n",
    "DON'T MODIFY ANYTHING IN THIS CELL THAT IS BELOW THIS LINE\n",
    "\"\"\"\n",
    "tests.test_flatten(flatten)"
   ]
  },
  {
   "cell_type": "markdown",
   "metadata": {},
   "source": [
    "### Fully-Connected Layer\n",
    "Implement the `fully_conn` function to apply a fully connected layer to `x_tensor` with the shape (*Batch Size*, *num_outputs*). Shortcut option: you can use classes from the [TensorFlow Layers](https://www.tensorflow.org/api_docs/python/tf/layers) or [TensorFlow Layers (contrib)](https://www.tensorflow.org/api_guides/python/contrib.layers) packages for this layer. For more of a challenge, only use other TensorFlow packages."
   ]
  },
  {
   "cell_type": "code",
   "execution_count": 10,
   "metadata": {},
   "outputs": [
    {
     "name": "stdout",
     "output_type": "stream",
     "text": [
      "40\n",
      "Tests Passed\n"
     ]
    }
   ],
   "source": [
    "def fully_conn(x_tensor, num_outputs):\n",
    "    \"\"\"\n",
    "    Apply a fully connected layer to x_tensor using weight and bias\n",
    "    : x_tensor: A 2-D tensor where the first dimension is batch size.\n",
    "    : num_outputs: The number of output that the new tensor should be.\n",
    "    : return: A 2-D tensor where the second dimension is num_outputs.\n",
    "    \"\"\"\n",
    "    # TODO: Implement Function\n",
    "    print(num_outputs)\n",
    "    weights = tf.Variable(tf.random_normal([int(x_tensor.get_shape()[1]), num_outputs], mean=0.0, stddev=0.1))\n",
    "    bias    = tf.Variable(tf.zeros([num_outputs]))\n",
    "    \n",
    "    forward = tf.add(tf.matmul(x_tensor, weights), bias)\n",
    "    \n",
    "    return tf.nn.relu(forward)\n",
    "\n",
    "\"\"\"\n",
    "DON'T MODIFY ANYTHING IN THIS CELL THAT IS BELOW THIS LINE\n",
    "\"\"\"\n",
    "tests.test_fully_conn(fully_conn)"
   ]
  },
  {
   "cell_type": "markdown",
   "metadata": {},
   "source": [
    "### Output Layer\n",
    "Implement the `output` function to apply a fully connected layer to `x_tensor` with the shape (*Batch Size*, *num_outputs*). Shortcut option: you can use classes from the [TensorFlow Layers](https://www.tensorflow.org/api_docs/python/tf/layers) or [TensorFlow Layers (contrib)](https://www.tensorflow.org/api_guides/python/contrib.layers) packages for this layer. For more of a challenge, only use other TensorFlow packages.\n",
    "\n",
    "**Note:** Activation, softmax, or cross entropy should **not** be applied to this."
   ]
  },
  {
   "cell_type": "code",
   "execution_count": 11,
   "metadata": {},
   "outputs": [
    {
     "name": "stdout",
     "output_type": "stream",
     "text": [
      "40\n",
      "Tests Passed\n"
     ]
    }
   ],
   "source": [
    "def output(x_tensor, num_outputs):\n",
    "    \"\"\"\n",
    "    Apply a output layer to x_tensor using weight and bias\n",
    "    : x_tensor: A 2-D tensor where the first dimension is batch size.\n",
    "    : num_outputs: The number of output that the new tensor should be.\n",
    "    : return: A 2-D tensor where the second dimension is num_outputs.\n",
    "    \"\"\"\n",
    "    # TODO: Implement Function\n",
    "    print(num_outputs)\n",
    "    weights = tf.Variable(tf.random_normal([int(x_tensor.get_shape()[1]), num_outputs], mean=0.0, stddev=0.1))\n",
    "    bias    = tf.Variable(tf.zeros([num_outputs]))\n",
    "    return tf.add(tf.matmul(x_tensor, weights), bias)\n",
    "\n",
    "\n",
    "\"\"\"\n",
    "DON'T MODIFY ANYTHING IN THIS CELL THAT IS BELOW THIS LINE\n",
    "\"\"\"\n",
    "tests.test_output(output)"
   ]
  },
  {
   "cell_type": "markdown",
   "metadata": {},
   "source": [
    "### Create Convolutional Model\n",
    "Implement the function `conv_net` to create a convolutional neural network model. The function takes in a batch of images, `x`, and outputs logits.  Use the layers you created above to create this model:\n",
    "\n",
    "* Apply 1, 2, or 3 Convolution and Max Pool layers\n",
    "* Apply a Flatten Layer\n",
    "* Apply 1, 2, or 3 Fully Connected Layers\n",
    "* Apply an Output Layer\n",
    "* Return the output\n",
    "* Apply [TensorFlow's Dropout](https://www.tensorflow.org/api_docs/python/tf/nn/dropout) to one or more layers in the model using `keep_prob`. "
   ]
  },
  {
   "cell_type": "code",
   "execution_count": 46,
   "metadata": {},
   "outputs": [
    {
     "name": "stdout",
     "output_type": "stream",
     "text": [
      "(?, 32, 32, 64)\n",
      "512\n",
      "256\n",
      "10\n",
      "(?, 32, 32, 64)\n",
      "512\n",
      "256\n",
      "10\n",
      "Neural Network Built!\n"
     ]
    }
   ],
   "source": [
    "def conv_net(x, keep_prob):\n",
    "    \"\"\"\n",
    "    Create a convolutional neural network model\n",
    "    : x: Placeholder tensor that holds image data.\n",
    "    : keep_prob: Placeholder tensor that hold dropout keep probability.\n",
    "    : return: Tensor that represents logits\n",
    "    \"\"\"\n",
    "    # TODO: Apply 1, 2, or 3 Convolution and Max Pool layers\n",
    "    #    Play around with different number of outputs, kernel size and stride\n",
    "    # Function Definition from Above:\n",
    "    #    conv2d_maxpool(x_tensor, conv_num_outputs, conv_ksize, conv_strides, pool_ksize, pool_strides)\n",
    "    model = conv2d_maxpool(x, conv_num_outputs=32, conv_ksize=(5,5), conv_strides=(1,1), pool_ksize=(3,3),\n",
    "                           pool_strides=(1,1))\n",
    "    model = tf.nn.dropout(model, keep_prob)\n",
    "    model = conv2d_maxpool(x, conv_num_outputs=32, conv_ksize=(5,5), conv_strides=(1,1), pool_ksize=(3,3),\n",
    "                           pool_strides=(1,1))\n",
    "    model = tf.nn.dropout(model, keep_prob)\n",
    "    model = conv2d_maxpool(x, conv_num_outputs=64, conv_ksize=(5,5), conv_strides=(1,1), pool_ksize=(3,3),\n",
    "                           pool_strides=(1,1))\n",
    "    model = tf.nn.dropout(model, keep_prob)\n",
    "    \n",
    "    # TODO: Apply a Flatten Layer\n",
    "    # Function Definition from Above:\n",
    "    #   flatten(x_tensor)\n",
    "    model = flatten(model)\n",
    "    \n",
    "    # TODO: Apply 1, 2, or 3 Fully Connected Layers\n",
    "    #    Play around with different number of outputs\n",
    "    # Function Definition from Above:\n",
    "    #   fully_conn(x_tensor, num_outputs)\n",
    "    layer = fully_conn(model,512)\n",
    "    layer = tf.nn.dropout(layer, keep_prob)\n",
    "    layer = fully_conn(layer,256)\n",
    "    layer = tf.nn.dropout(layer, keep_prob)\n",
    "    #layer = fully_conn(layer,64)\n",
    "    #layer = tf.nn.dropout(layer, keep_prob)\n",
    "    # TODO: Apply an Output Layer\n",
    "    #    Set this to the number of classes\n",
    "    # Function Definition from Above:\n",
    "    #   output(x_tensor, num_outputs)\n",
    "    model = output(layer,10)\n",
    "    \n",
    "    # TODO: return output\n",
    "    return model\n",
    "\n",
    "\n",
    "\"\"\"\n",
    "DON'T MODIFY ANYTHING IN THIS CELL THAT IS BELOW THIS LINE\n",
    "\"\"\"\n",
    "\n",
    "##############################\n",
    "## Build the Neural Network ##\n",
    "##############################\n",
    "\n",
    "# Remove previous weights, bias, inputs, etc..\n",
    "tf.reset_default_graph()\n",
    "\n",
    "# Inputs\n",
    "x = neural_net_image_input((32, 32, 3))\n",
    "y = neural_net_label_input(10)\n",
    "keep_prob = neural_net_keep_prob_input()\n",
    "\n",
    "# Model\n",
    "logits = conv_net(x, keep_prob)\n",
    "\n",
    "# Name logits Tensor, so that is can be loaded from disk after training\n",
    "logits = tf.identity(logits, name='logits')\n",
    "\n",
    "# Loss and Optimizer\n",
    "cost = tf.reduce_mean(tf.nn.softmax_cross_entropy_with_logits(logits=logits, labels=y))\n",
    "optimizer = tf.train.AdamOptimizer().minimize(cost)\n",
    "\n",
    "# Accuracy\n",
    "correct_pred = tf.equal(tf.argmax(logits, 1), tf.argmax(y, 1))\n",
    "accuracy = tf.reduce_mean(tf.cast(correct_pred, tf.float32), name='accuracy')\n",
    "\n",
    "tests.test_conv_net(conv_net)"
   ]
  },
  {
   "cell_type": "markdown",
   "metadata": {},
   "source": [
    "## Train the Neural Network\n",
    "### Single Optimization\n",
    "Implement the function `train_neural_network` to do a single optimization.  The optimization should use `optimizer` to optimize in `session` with a `feed_dict` of the following:\n",
    "* `x` for image input\n",
    "* `y` for labels\n",
    "* `keep_prob` for keep probability for dropout\n",
    "\n",
    "This function will be called for each batch, so `tf.global_variables_initializer()` has already been called.\n",
    "\n",
    "Note: Nothing needs to be returned. This function is only optimizing the neural network."
   ]
  },
  {
   "cell_type": "code",
   "execution_count": 47,
   "metadata": {},
   "outputs": [
    {
     "name": "stdout",
     "output_type": "stream",
     "text": [
      "Tests Passed\n"
     ]
    }
   ],
   "source": [
    "def train_neural_network(session, optimizer, keep_probability, feature_batch, label_batch):\n",
    "    \"\"\"\n",
    "    Optimize the session on a batch of images and labels\n",
    "    : session: Current TensorFlow session\n",
    "    : optimizer: TensorFlow optimizer function\n",
    "    : keep_probability: keep probability\n",
    "    : feature_batch: Batch of Numpy image data\n",
    "    : label_batch: Batch of Numpy label data\n",
    "    \"\"\"\n",
    "    # TODO: Implement Function\n",
    "    session.run(optimizer, feed_dict={x: feature_batch, y: label_batch, keep_prob: keep_probability})\n",
    "    \n",
    "\n",
    "\n",
    "\"\"\"\n",
    "DON'T MODIFY ANYTHING IN THIS CELL THAT IS BELOW THIS LINE\n",
    "\"\"\"\n",
    "tests.test_train_nn(train_neural_network)"
   ]
  },
  {
   "cell_type": "markdown",
   "metadata": {},
   "source": [
    "### Show Stats\n",
    "Implement the function `print_stats` to print loss and validation accuracy.  Use the global variables `valid_features` and `valid_labels` to calculate validation accuracy.  Use a keep probability of `1.0` to calculate the loss and validation accuracy."
   ]
  },
  {
   "cell_type": "code",
   "execution_count": 48,
   "metadata": {
    "collapsed": true
   },
   "outputs": [],
   "source": [
    "def print_stats(session, feature_batch, label_batch, cost, accuracy):\n",
    "    \"\"\"\n",
    "    Print information about loss and validation accuracy\n",
    "    : session: Current TensorFlow session\n",
    "    : feature_batch: Batch of Numpy image data\n",
    "    : label_batch: Batch of Numpy label data\n",
    "    : cost: TensorFlow cost function\n",
    "    : accuracy: TensorFlow accuracy function\n",
    "    \"\"\"\n",
    "    # TODO: Implement Function\n",
    "    cost = session.run(cost, feed_dict={x: feature_batch, y: label_batch, keep_prob: 1.0})\n",
    "    validation_accuracy = session.run(accuracy, feed_dict={x: valid_features, y: valid_labels, keep_prob: 1.0})\n",
    "    print('Cost = {0} - Validation Accuracy = {1}'.format(cost, validation_accuracy))"
   ]
  },
  {
   "cell_type": "markdown",
   "metadata": {},
   "source": [
    "### Hyperparameters\n",
    "Tune the following parameters:\n",
    "* Set `epochs` to the number of iterations until the network stops learning or start overfitting\n",
    "* Set `batch_size` to the highest number that your machine has memory for.  Most people set them to common sizes of memory:\n",
    " * 64\n",
    " * 128\n",
    " * 256\n",
    " * ...\n",
    "* Set `keep_probability` to the probability of keeping a node using dropout"
   ]
  },
  {
   "cell_type": "code",
   "execution_count": 51,
   "metadata": {
    "collapsed": true
   },
   "outputs": [],
   "source": [
    "# TODO: Tune Parameters\n",
    "epochs = 50\n",
    "#epochs = 80\n",
    "batch_size =1024\n",
    "keep_probability = 0.75"
   ]
  },
  {
   "cell_type": "markdown",
   "metadata": {},
   "source": [
    "### Train on a Single CIFAR-10 Batch\n",
    "Instead of training the neural network on all the CIFAR-10 batches of data, let's use a single batch. This should save time while you iterate on the model to get a better accuracy.  Once the final validation accuracy is 50% or greater, run the model on all the data in the next section."
   ]
  },
  {
   "cell_type": "code",
   "execution_count": 50,
   "metadata": {},
   "outputs": [
    {
     "name": "stdout",
     "output_type": "stream",
     "text": [
      "Checking the Training on a Single Batch...\n",
      "Epoch  1, CIFAR-10 Batch 1:  Cost = 2.2185001373291016 - Validation Accuracy = 0.1695999801158905\n",
      "Epoch  2, CIFAR-10 Batch 1:  Cost = 2.1594083309173584 - Validation Accuracy = 0.2003999948501587\n",
      "Epoch  3, CIFAR-10 Batch 1:  Cost = 2.0598061084747314 - Validation Accuracy = 0.24979999661445618\n",
      "Epoch  4, CIFAR-10 Batch 1:  Cost = 1.9788275957107544 - Validation Accuracy = 0.27300000190734863\n",
      "Epoch  5, CIFAR-10 Batch 1:  Cost = 1.9074959754943848 - Validation Accuracy = 0.3227999806404114\n",
      "Epoch  6, CIFAR-10 Batch 1:  Cost = 1.8280287981033325 - Validation Accuracy = 0.3424000144004822\n",
      "Epoch  7, CIFAR-10 Batch 1:  Cost = 1.7868096828460693 - Validation Accuracy = 0.36239996552467346\n",
      "Epoch  8, CIFAR-10 Batch 1:  Cost = 1.706950306892395 - Validation Accuracy = 0.37359994649887085\n",
      "Epoch  9, CIFAR-10 Batch 1:  Cost = 1.6761600971221924 - Validation Accuracy = 0.40279996395111084\n",
      "Epoch 10, CIFAR-10 Batch 1:  Cost = 1.6494618654251099 - Validation Accuracy = 0.41419997811317444\n",
      "Epoch 11, CIFAR-10 Batch 1:  Cost = 1.5902507305145264 - Validation Accuracy = 0.42399999499320984\n",
      "Epoch 12, CIFAR-10 Batch 1:  Cost = 1.5639142990112305 - Validation Accuracy = 0.42879998683929443\n",
      "Epoch 13, CIFAR-10 Batch 1:  Cost = 1.5281689167022705 - Validation Accuracy = 0.43199998140335083\n",
      "Epoch 14, CIFAR-10 Batch 1:  Cost = 1.4972604513168335 - Validation Accuracy = 0.44599997997283936\n",
      "Epoch 15, CIFAR-10 Batch 1:  Cost = 1.4631493091583252 - Validation Accuracy = 0.45399996638298035\n",
      "Epoch 16, CIFAR-10 Batch 1:  Cost = 1.4389750957489014 - Validation Accuracy = 0.4603999853134155\n",
      "Epoch 17, CIFAR-10 Batch 1:  Cost = 1.4125901460647583 - Validation Accuracy = 0.46799999475479126\n",
      "Epoch 18, CIFAR-10 Batch 1:  Cost = 1.3713059425354004 - Validation Accuracy = 0.46719998121261597\n",
      "Epoch 19, CIFAR-10 Batch 1:  Cost = 1.3566231727600098 - Validation Accuracy = 0.4699999690055847\n",
      "Epoch 20, CIFAR-10 Batch 1:  Cost = 1.327918291091919 - Validation Accuracy = 0.4699999690055847\n",
      "Epoch 21, CIFAR-10 Batch 1:  Cost = 1.3000438213348389 - Validation Accuracy = 0.4853999614715576\n",
      "Epoch 22, CIFAR-10 Batch 1:  Cost = 1.2868669033050537 - Validation Accuracy = 0.4829999506473541\n",
      "Epoch 23, CIFAR-10 Batch 1:  Cost = 1.2385528087615967 - Validation Accuracy = 0.4909999370574951\n",
      "Epoch 24, CIFAR-10 Batch 1:  Cost = 1.2218090295791626 - Validation Accuracy = 0.4915999472141266\n",
      "Epoch 25, CIFAR-10 Batch 1:  Cost = 1.1989442110061646 - Validation Accuracy = 0.4923999309539795\n",
      "Epoch 26, CIFAR-10 Batch 1:  Cost = 1.1791563034057617 - Validation Accuracy = 0.49220001697540283\n",
      "Epoch 27, CIFAR-10 Batch 1:  Cost = 1.1497403383255005 - Validation Accuracy = 0.49439993500709534\n",
      "Epoch 28, CIFAR-10 Batch 1:  Cost = 1.129889965057373 - Validation Accuracy = 0.49939996004104614\n",
      "Epoch 29, CIFAR-10 Batch 1:  Cost = 1.1094040870666504 - Validation Accuracy = 0.5037999749183655\n",
      "Epoch 30, CIFAR-10 Batch 1:  Cost = 1.0920217037200928 - Validation Accuracy = 0.5037999749183655\n",
      "Epoch 31, CIFAR-10 Batch 1:  Cost = 1.0775998830795288 - Validation Accuracy = 0.5069999694824219\n",
      "Epoch 32, CIFAR-10 Batch 1:  Cost = 1.04424250125885 - Validation Accuracy = 0.5079999566078186\n",
      "Epoch 33, CIFAR-10 Batch 1:  Cost = 1.023402452468872 - Validation Accuracy = 0.511199951171875\n",
      "Epoch 34, CIFAR-10 Batch 1:  Cost = 1.0037074089050293 - Validation Accuracy = 0.509399950504303\n",
      "Epoch 35, CIFAR-10 Batch 1:  Cost = 0.9889495372772217 - Validation Accuracy = 0.5119999647140503\n",
      "Epoch 36, CIFAR-10 Batch 1:  Cost = 0.9642252326011658 - Validation Accuracy = 0.5087999701499939\n",
      "Epoch 37, CIFAR-10 Batch 1:  Cost = 0.9338963031768799 - Validation Accuracy = 0.5165999531745911\n",
      "Epoch 38, CIFAR-10 Batch 1:  Cost = 0.9070236682891846 - Validation Accuracy = 0.5161999464035034\n",
      "Epoch 39, CIFAR-10 Batch 1:  Cost = 0.8938456177711487 - Validation Accuracy = 0.5221999287605286\n",
      "Epoch 40, CIFAR-10 Batch 1:  Cost = 0.8739596605300903 - Validation Accuracy = 0.5161999464035034\n",
      "Epoch 41, CIFAR-10 Batch 1:  Cost = 0.858619213104248 - Validation Accuracy = 0.5251999497413635\n",
      "Epoch 42, CIFAR-10 Batch 1:  Cost = 0.8225765228271484 - Validation Accuracy = 0.5230000019073486\n",
      "Epoch 43, CIFAR-10 Batch 1:  Cost = 0.8223769068717957 - Validation Accuracy = 0.5205999612808228\n",
      "Epoch 44, CIFAR-10 Batch 1:  Cost = 0.7941573858261108 - Validation Accuracy = 0.5267999172210693\n",
      "Epoch 45, CIFAR-10 Batch 1:  Cost = 0.7865327596664429 - Validation Accuracy = 0.5237999558448792\n",
      "Epoch 46, CIFAR-10 Batch 1:  Cost = 0.7600159049034119 - Validation Accuracy = 0.5251998901367188\n",
      "Epoch 47, CIFAR-10 Batch 1:  Cost = 0.7506504654884338 - Validation Accuracy = 0.5279998779296875\n",
      "Epoch 48, CIFAR-10 Batch 1:  Cost = 0.7328008413314819 - Validation Accuracy = 0.5301999449729919\n",
      "Epoch 49, CIFAR-10 Batch 1:  Cost = 0.7035481929779053 - Validation Accuracy = 0.5311999320983887\n",
      "Epoch 50, CIFAR-10 Batch 1:  Cost = 0.6860060691833496 - Validation Accuracy = 0.5327999591827393\n",
      "Epoch 51, CIFAR-10 Batch 1:  Cost = 0.6684377193450928 - Validation Accuracy = 0.5281999111175537\n",
      "Epoch 52, CIFAR-10 Batch 1:  Cost = 0.664130449295044 - Validation Accuracy = 0.5341999530792236\n",
      "Epoch 53, CIFAR-10 Batch 1:  Cost = 0.6358996033668518 - Validation Accuracy = 0.5311999320983887\n",
      "Epoch 54, CIFAR-10 Batch 1:  Cost = 0.618998110294342 - Validation Accuracy = 0.5339999198913574\n",
      "Epoch 55, CIFAR-10 Batch 1:  Cost = 0.6181775331497192 - Validation Accuracy = 0.5321999192237854\n",
      "Epoch 56, CIFAR-10 Batch 1:  Cost = 0.6066424250602722 - Validation Accuracy = 0.5297999978065491\n",
      "Epoch 57, CIFAR-10 Batch 1:  Cost = 0.5743263363838196 - Validation Accuracy = 0.5339999198913574\n",
      "Epoch 58, CIFAR-10 Batch 1:  Cost = 0.570697009563446 - Validation Accuracy = 0.531999945640564\n",
      "Epoch 59, CIFAR-10 Batch 1:  Cost = 0.5384083390235901 - Validation Accuracy = 0.5349999666213989\n",
      "Epoch 60, CIFAR-10 Batch 1:  Cost = 0.5357884764671326 - Validation Accuracy = 0.535599946975708\n",
      "Epoch 61, CIFAR-10 Batch 1:  Cost = 0.5124191045761108 - Validation Accuracy = 0.5333999395370483\n",
      "Epoch 62, CIFAR-10 Batch 1:  Cost = 0.5197854042053223 - Validation Accuracy = 0.5343999862670898\n",
      "Epoch 63, CIFAR-10 Batch 1:  Cost = 0.4820289611816406 - Validation Accuracy = 0.531999945640564\n",
      "Epoch 64, CIFAR-10 Batch 1:  Cost = 0.47860321402549744 - Validation Accuracy = 0.5353999137878418\n",
      "Epoch 65, CIFAR-10 Batch 1:  Cost = 0.47023817896842957 - Validation Accuracy = 0.5361999273300171\n",
      "Epoch 66, CIFAR-10 Batch 1:  Cost = 0.4398100972175598 - Validation Accuracy = 0.5323999524116516\n",
      "Epoch 67, CIFAR-10 Batch 1:  Cost = 0.44591638445854187 - Validation Accuracy = 0.5353999137878418\n",
      "Epoch 68, CIFAR-10 Batch 1:  Cost = 0.4350028932094574 - Validation Accuracy = 0.532599925994873\n",
      "Epoch 69, CIFAR-10 Batch 1:  Cost = 0.42539700865745544 - Validation Accuracy = 0.5313998460769653\n",
      "Epoch 70, CIFAR-10 Batch 1:  Cost = 0.4183602035045624 - Validation Accuracy = 0.5285999774932861\n",
      "Epoch 71, CIFAR-10 Batch 1:  Cost = 0.4171525239944458 - Validation Accuracy = 0.5255998969078064\n",
      "Epoch 72, CIFAR-10 Batch 1:  Cost = 0.4131460189819336 - Validation Accuracy = 0.5223999619483948\n",
      "Epoch 73, CIFAR-10 Batch 1:  Cost = 0.38993269205093384 - Validation Accuracy = 0.5291999578475952\n",
      "Epoch 74, CIFAR-10 Batch 1:  Cost = 0.369771271944046 - Validation Accuracy = 0.5195999145507812\n",
      "Epoch 75, CIFAR-10 Batch 1:  Cost = 0.3964393436908722 - Validation Accuracy = 0.5217999815940857\n",
      "Epoch 76, CIFAR-10 Batch 1:  Cost = 0.36825549602508545 - Validation Accuracy = 0.5205999612808228\n",
      "Epoch 77, CIFAR-10 Batch 1:  Cost = 0.3483506143093109 - Validation Accuracy = 0.525399923324585\n",
      "Epoch 78, CIFAR-10 Batch 1:  Cost = 0.35007527470588684 - Validation Accuracy = 0.5197999477386475\n",
      "Epoch 79, CIFAR-10 Batch 1:  Cost = 0.32364457845687866 - Validation Accuracy = 0.5237999558448792\n",
      "Epoch 80, CIFAR-10 Batch 1:  Cost = 0.3183526396751404 - Validation Accuracy = 0.5277999043464661\n"
     ]
    }
   ],
   "source": [
    "\"\"\"\n",
    "DON'T MODIFY ANYTHING IN THIS CELL\n",
    "\"\"\"\n",
    "print('Checking the Training on a Single Batch...')\n",
    "with tf.Session() as sess:\n",
    "    # Initializing the variables\n",
    "    sess.run(tf.global_variables_initializer())\n",
    "    \n",
    "    # Training cycle\n",
    "    for epoch in range(epochs):\n",
    "        batch_i = 1\n",
    "        for batch_features, batch_labels in helper.load_preprocess_training_batch(batch_i, batch_size):\n",
    "            train_neural_network(sess, optimizer, keep_probability, batch_features, batch_labels)\n",
    "        print('Epoch {:>2}, CIFAR-10 Batch {}:  '.format(epoch + 1, batch_i), end='')\n",
    "        print_stats(sess, batch_features, batch_labels, cost, accuracy)"
   ]
  },
  {
   "cell_type": "markdown",
   "metadata": {},
   "source": [
    "### Fully Train the Model\n",
    "Now that you got a good accuracy with a single CIFAR-10 batch, try it with all five batches."
   ]
  },
  {
   "cell_type": "code",
   "execution_count": 52,
   "metadata": {},
   "outputs": [
    {
     "name": "stdout",
     "output_type": "stream",
     "text": [
      "Training...\n",
      "Epoch  1, CIFAR-10 Batch 1:  Cost = 2.721571922302246 - Validation Accuracy = 0.10999999195337296\n",
      "Epoch  1, CIFAR-10 Batch 2:  Cost = 2.275700092315674 - Validation Accuracy = 0.15540000796318054\n",
      "Epoch  1, CIFAR-10 Batch 3:  Cost = 2.1749868392944336 - Validation Accuracy = 0.20899999141693115\n",
      "Epoch  1, CIFAR-10 Batch 4:  Cost = 2.1109180450439453 - Validation Accuracy = 0.23359999060630798\n",
      "Epoch  1, CIFAR-10 Batch 5:  Cost = 2.0380380153656006 - Validation Accuracy = 0.2718000113964081\n",
      "Epoch  2, CIFAR-10 Batch 1:  Cost = 2.0034680366516113 - Validation Accuracy = 0.2947999835014343\n",
      "Epoch  2, CIFAR-10 Batch 2:  Cost = 1.9368650913238525 - Validation Accuracy = 0.319599986076355\n",
      "Epoch  2, CIFAR-10 Batch 3:  Cost = 1.8644165992736816 - Validation Accuracy = 0.3219999670982361\n",
      "Epoch  2, CIFAR-10 Batch 4:  Cost = 1.814835548400879 - Validation Accuracy = 0.3424000144004822\n",
      "Epoch  2, CIFAR-10 Batch 5:  Cost = 1.7756918668746948 - Validation Accuracy = 0.3553999662399292\n",
      "Epoch  3, CIFAR-10 Batch 1:  Cost = 1.792952537536621 - Validation Accuracy = 0.3744000196456909\n",
      "Epoch  3, CIFAR-10 Batch 2:  Cost = 1.742906093597412 - Validation Accuracy = 0.38359999656677246\n",
      "Epoch  3, CIFAR-10 Batch 3:  Cost = 1.6685030460357666 - Validation Accuracy = 0.38999998569488525\n",
      "Epoch  3, CIFAR-10 Batch 4:  Cost = 1.6581274271011353 - Validation Accuracy = 0.39979997277259827\n",
      "Epoch  3, CIFAR-10 Batch 5:  Cost = 1.622910737991333 - Validation Accuracy = 0.4065999686717987\n",
      "Epoch  4, CIFAR-10 Batch 1:  Cost = 1.6382375955581665 - Validation Accuracy = 0.423799991607666\n",
      "Epoch  4, CIFAR-10 Batch 2:  Cost = 1.6289117336273193 - Validation Accuracy = 0.42899996042251587\n",
      "Epoch  4, CIFAR-10 Batch 3:  Cost = 1.5553470849990845 - Validation Accuracy = 0.42879998683929443\n",
      "Epoch  4, CIFAR-10 Batch 4:  Cost = 1.5558066368103027 - Validation Accuracy = 0.43939998745918274\n",
      "Epoch  4, CIFAR-10 Batch 5:  Cost = 1.5413838624954224 - Validation Accuracy = 0.4431999623775482\n",
      "Epoch  5, CIFAR-10 Batch 1:  Cost = 1.545838713645935 - Validation Accuracy = 0.44859999418258667\n",
      "Epoch  5, CIFAR-10 Batch 2:  Cost = 1.5418919324874878 - Validation Accuracy = 0.45559996366500854\n",
      "Epoch  5, CIFAR-10 Batch 3:  Cost = 1.474762201309204 - Validation Accuracy = 0.46219998598098755\n",
      "Epoch  5, CIFAR-10 Batch 4:  Cost = 1.475290060043335 - Validation Accuracy = 0.4667999744415283\n",
      "Epoch  5, CIFAR-10 Batch 5:  Cost = 1.4577748775482178 - Validation Accuracy = 0.4602000117301941\n",
      "Epoch  6, CIFAR-10 Batch 1:  Cost = 1.486154317855835 - Validation Accuracy = 0.4673999547958374\n",
      "Epoch  6, CIFAR-10 Batch 2:  Cost = 1.4708530902862549 - Validation Accuracy = 0.4763999581336975\n",
      "Epoch  6, CIFAR-10 Batch 3:  Cost = 1.414124608039856 - Validation Accuracy = 0.4775999188423157\n",
      "Epoch  6, CIFAR-10 Batch 4:  Cost = 1.4139267206192017 - Validation Accuracy = 0.4819999635219574\n",
      "Epoch  6, CIFAR-10 Batch 5:  Cost = 1.4051563739776611 - Validation Accuracy = 0.480599969625473\n",
      "Epoch  7, CIFAR-10 Batch 1:  Cost = 1.4259670972824097 - Validation Accuracy = 0.4877999424934387\n",
      "Epoch  7, CIFAR-10 Batch 2:  Cost = 1.4289231300354004 - Validation Accuracy = 0.4907999634742737\n",
      "Epoch  7, CIFAR-10 Batch 3:  Cost = 1.3605419397354126 - Validation Accuracy = 0.4893999397754669\n",
      "Epoch  7, CIFAR-10 Batch 4:  Cost = 1.375230312347412 - Validation Accuracy = 0.49639996886253357\n",
      "Epoch  7, CIFAR-10 Batch 5:  Cost = 1.3469009399414062 - Validation Accuracy = 0.48959997296333313\n",
      "Epoch  8, CIFAR-10 Batch 1:  Cost = 1.377554178237915 - Validation Accuracy = 0.49619996547698975\n",
      "Epoch  8, CIFAR-10 Batch 2:  Cost = 1.3721002340316772 - Validation Accuracy = 0.5023999214172363\n",
      "Epoch  8, CIFAR-10 Batch 3:  Cost = 1.3260924816131592 - Validation Accuracy = 0.49879997968673706\n",
      "Epoch  8, CIFAR-10 Batch 4:  Cost = 1.3143342733383179 - Validation Accuracy = 0.5089999437332153\n",
      "Epoch  8, CIFAR-10 Batch 5:  Cost = 1.3182682991027832 - Validation Accuracy = 0.5061999559402466\n",
      "Epoch  9, CIFAR-10 Batch 1:  Cost = 1.3341255187988281 - Validation Accuracy = 0.5089999437332153\n",
      "Epoch  9, CIFAR-10 Batch 2:  Cost = 1.326547384262085 - Validation Accuracy = 0.5145999789237976\n",
      "Epoch  9, CIFAR-10 Batch 3:  Cost = 1.2862060070037842 - Validation Accuracy = 0.5117999315261841\n",
      "Epoch  9, CIFAR-10 Batch 4:  Cost = 1.290785789489746 - Validation Accuracy = 0.5167999267578125\n",
      "Epoch  9, CIFAR-10 Batch 5:  Cost = 1.268936276435852 - Validation Accuracy = 0.5073999762535095\n",
      "Epoch 10, CIFAR-10 Batch 1:  Cost = 1.290622353553772 - Validation Accuracy = 0.5193999409675598\n",
      "Epoch 10, CIFAR-10 Batch 2:  Cost = 1.2975951433181763 - Validation Accuracy = 0.5267999172210693\n",
      "Epoch 10, CIFAR-10 Batch 3:  Cost = 1.252514362335205 - Validation Accuracy = 0.5207999348640442\n",
      "Epoch 10, CIFAR-10 Batch 4:  Cost = 1.2502176761627197 - Validation Accuracy = 0.5259999632835388\n",
      "Epoch 10, CIFAR-10 Batch 5:  Cost = 1.2491005659103394 - Validation Accuracy = 0.5233999490737915\n",
      "Epoch 11, CIFAR-10 Batch 1:  Cost = 1.278313159942627 - Validation Accuracy = 0.5301998853683472\n",
      "Epoch 11, CIFAR-10 Batch 2:  Cost = 1.2755317687988281 - Validation Accuracy = 0.5283999443054199\n",
      "Epoch 11, CIFAR-10 Batch 3:  Cost = 1.234810471534729 - Validation Accuracy = 0.5297999382019043\n",
      "Epoch 11, CIFAR-10 Batch 4:  Cost = 1.217575192451477 - Validation Accuracy = 0.5335999131202698\n",
      "Epoch 11, CIFAR-10 Batch 5:  Cost = 1.216413974761963 - Validation Accuracy = 0.5235999822616577\n",
      "Epoch 12, CIFAR-10 Batch 1:  Cost = 1.2506217956542969 - Validation Accuracy = 0.5335999131202698\n",
      "Epoch 12, CIFAR-10 Batch 2:  Cost = 1.2371045351028442 - Validation Accuracy = 0.532599925994873\n",
      "Epoch 12, CIFAR-10 Batch 3:  Cost = 1.1990032196044922 - Validation Accuracy = 0.5379999279975891\n",
      "Epoch 12, CIFAR-10 Batch 4:  Cost = 1.2098209857940674 - Validation Accuracy = 0.5297999382019043\n",
      "Epoch 12, CIFAR-10 Batch 5:  Cost = 1.201730728149414 - Validation Accuracy = 0.531999945640564\n",
      "Epoch 13, CIFAR-10 Batch 1:  Cost = 1.225721001625061 - Validation Accuracy = 0.54339998960495\n",
      "Epoch 13, CIFAR-10 Batch 2:  Cost = 1.2204385995864868 - Validation Accuracy = 0.5381999015808105\n",
      "Epoch 13, CIFAR-10 Batch 3:  Cost = 1.1769683361053467 - Validation Accuracy = 0.5381999015808105\n",
      "Epoch 13, CIFAR-10 Batch 4:  Cost = 1.1813008785247803 - Validation Accuracy = 0.5425999164581299\n",
      "Epoch 13, CIFAR-10 Batch 5:  Cost = 1.177126407623291 - Validation Accuracy = 0.5437999367713928\n",
      "Epoch 14, CIFAR-10 Batch 1:  Cost = 1.2040953636169434 - Validation Accuracy = 0.5463999509811401\n",
      "Epoch 14, CIFAR-10 Batch 2:  Cost = 1.199195146560669 - Validation Accuracy = 0.547999918460846\n",
      "Epoch 14, CIFAR-10 Batch 3:  Cost = 1.1674067974090576 - Validation Accuracy = 0.5455999374389648\n",
      "Epoch 14, CIFAR-10 Batch 4:  Cost = 1.164123296737671 - Validation Accuracy = 0.5491999387741089\n",
      "Epoch 14, CIFAR-10 Batch 5:  Cost = 1.153407096862793 - Validation Accuracy = 0.5401999950408936\n",
      "Epoch 15, CIFAR-10 Batch 1:  Cost = 1.1854145526885986 - Validation Accuracy = 0.5491999387741089\n",
      "Epoch 15, CIFAR-10 Batch 2:  Cost = 1.1659891605377197 - Validation Accuracy = 0.5465999245643616\n",
      "Epoch 15, CIFAR-10 Batch 3:  Cost = 1.1354728937149048 - Validation Accuracy = 0.5529999136924744\n",
      "Epoch 15, CIFAR-10 Batch 4:  Cost = 1.1469587087631226 - Validation Accuracy = 0.5503999590873718\n",
      "Epoch 15, CIFAR-10 Batch 5:  Cost = 1.1271950006484985 - Validation Accuracy = 0.5455999970436096\n",
      "Epoch 16, CIFAR-10 Batch 1:  Cost = 1.169696569442749 - Validation Accuracy = 0.55159991979599\n",
      "Epoch 16, CIFAR-10 Batch 2:  Cost = 1.152099609375 - Validation Accuracy = 0.554599940776825\n",
      "Epoch 16, CIFAR-10 Batch 3:  Cost = 1.1187918186187744 - Validation Accuracy = 0.5541999340057373\n",
      "Epoch 16, CIFAR-10 Batch 4:  Cost = 1.1292445659637451 - Validation Accuracy = 0.556999921798706\n",
      "Epoch 16, CIFAR-10 Batch 5:  Cost = 1.1141505241394043 - Validation Accuracy = 0.5469999313354492\n",
      "Epoch 17, CIFAR-10 Batch 1:  Cost = 1.1504082679748535 - Validation Accuracy = 0.5603999495506287\n",
      "Epoch 17, CIFAR-10 Batch 2:  Cost = 1.1270854473114014 - Validation Accuracy = 0.5549999475479126\n",
      "Epoch 17, CIFAR-10 Batch 3:  Cost = 1.114997148513794 - Validation Accuracy = 0.5561999678611755\n",
      "Epoch 17, CIFAR-10 Batch 4:  Cost = 1.1129441261291504 - Validation Accuracy = 0.5601999163627625\n"
     ]
    },
    {
     "name": "stdout",
     "output_type": "stream",
     "text": [
      "Epoch 17, CIFAR-10 Batch 5:  Cost = 1.0818464756011963 - Validation Accuracy = 0.558199942111969\n",
      "Epoch 18, CIFAR-10 Batch 1:  Cost = 1.1297523975372314 - Validation Accuracy = 0.5627999305725098\n",
      "Epoch 18, CIFAR-10 Batch 2:  Cost = 1.1222410202026367 - Validation Accuracy = 0.5553999543190002\n",
      "Epoch 18, CIFAR-10 Batch 3:  Cost = 1.0812652111053467 - Validation Accuracy = 0.5651999115943909\n",
      "Epoch 18, CIFAR-10 Batch 4:  Cost = 1.0966782569885254 - Validation Accuracy = 0.561799943447113\n",
      "Epoch 18, CIFAR-10 Batch 5:  Cost = 1.0772037506103516 - Validation Accuracy = 0.5523999333381653\n",
      "Epoch 19, CIFAR-10 Batch 1:  Cost = 1.1129860877990723 - Validation Accuracy = 0.5633999109268188\n",
      "Epoch 19, CIFAR-10 Batch 2:  Cost = 1.0966535806655884 - Validation Accuracy = 0.5597999691963196\n",
      "Epoch 19, CIFAR-10 Batch 3:  Cost = 1.0794737339019775 - Validation Accuracy = 0.5609999895095825\n",
      "Epoch 19, CIFAR-10 Batch 4:  Cost = 1.0749824047088623 - Validation Accuracy = 0.5611999034881592\n",
      "Epoch 19, CIFAR-10 Batch 5:  Cost = 1.059277057647705 - Validation Accuracy = 0.5637999176979065\n",
      "Epoch 20, CIFAR-10 Batch 1:  Cost = 1.1000349521636963 - Validation Accuracy = 0.5717999339103699\n",
      "Epoch 20, CIFAR-10 Batch 2:  Cost = 1.0756596326828003 - Validation Accuracy = 0.5743999481201172\n",
      "Epoch 20, CIFAR-10 Batch 3:  Cost = 1.0574414730072021 - Validation Accuracy = 0.5673999190330505\n",
      "Epoch 20, CIFAR-10 Batch 4:  Cost = 1.0588876008987427 - Validation Accuracy = 0.5671998858451843\n",
      "Epoch 20, CIFAR-10 Batch 5:  Cost = 1.0435799360275269 - Validation Accuracy = 0.5568000078201294\n",
      "Epoch 21, CIFAR-10 Batch 1:  Cost = 1.0795387029647827 - Validation Accuracy = 0.574199914932251\n",
      "Epoch 21, CIFAR-10 Batch 2:  Cost = 1.0627999305725098 - Validation Accuracy = 0.5693999528884888\n",
      "Epoch 21, CIFAR-10 Batch 3:  Cost = 1.044891595840454 - Validation Accuracy = 0.564799964427948\n",
      "Epoch 21, CIFAR-10 Batch 4:  Cost = 1.0367460250854492 - Validation Accuracy = 0.5675999522209167\n",
      "Epoch 21, CIFAR-10 Batch 5:  Cost = 1.023857831954956 - Validation Accuracy = 0.5625999569892883\n",
      "Epoch 22, CIFAR-10 Batch 1:  Cost = 1.0717283487319946 - Validation Accuracy = 0.5719999074935913\n",
      "Epoch 22, CIFAR-10 Batch 2:  Cost = 1.0547199249267578 - Validation Accuracy = 0.5717999935150146\n",
      "Epoch 22, CIFAR-10 Batch 3:  Cost = 1.0197747945785522 - Validation Accuracy = 0.5673999190330505\n",
      "Epoch 22, CIFAR-10 Batch 4:  Cost = 1.0310077667236328 - Validation Accuracy = 0.5673999190330505\n",
      "Epoch 22, CIFAR-10 Batch 5:  Cost = 1.0110498666763306 - Validation Accuracy = 0.5655999183654785\n",
      "Epoch 23, CIFAR-10 Batch 1:  Cost = 1.052675485610962 - Validation Accuracy = 0.5725999474525452\n",
      "Epoch 23, CIFAR-10 Batch 2:  Cost = 1.0429521799087524 - Validation Accuracy = 0.5719999670982361\n",
      "Epoch 23, CIFAR-10 Batch 3:  Cost = 1.003427267074585 - Validation Accuracy = 0.5713999271392822\n",
      "Epoch 23, CIFAR-10 Batch 4:  Cost = 1.0011295080184937 - Validation Accuracy = 0.5757999420166016\n",
      "Epoch 23, CIFAR-10 Batch 5:  Cost = 0.9967782497406006 - Validation Accuracy = 0.5681999325752258\n",
      "Epoch 24, CIFAR-10 Batch 1:  Cost = 1.0368218421936035 - Validation Accuracy = 0.5747998952865601\n",
      "Epoch 24, CIFAR-10 Batch 2:  Cost = 1.0277098417282104 - Validation Accuracy = 0.5725999474525452\n",
      "Epoch 24, CIFAR-10 Batch 3:  Cost = 0.9902845025062561 - Validation Accuracy = 0.5747999548912048\n",
      "Epoch 24, CIFAR-10 Batch 4:  Cost = 1.0012074708938599 - Validation Accuracy = 0.5747999548912048\n",
      "Epoch 24, CIFAR-10 Batch 5:  Cost = 0.99225914478302 - Validation Accuracy = 0.5749998688697815\n",
      "Epoch 25, CIFAR-10 Batch 1:  Cost = 1.0303702354431152 - Validation Accuracy = 0.5777998566627502\n",
      "Epoch 25, CIFAR-10 Batch 2:  Cost = 1.0033247470855713 - Validation Accuracy = 0.5751999020576477\n",
      "Epoch 25, CIFAR-10 Batch 3:  Cost = 0.9768837690353394 - Validation Accuracy = 0.5757998824119568\n",
      "Epoch 25, CIFAR-10 Batch 4:  Cost = 0.9840376973152161 - Validation Accuracy = 0.5781999230384827\n",
      "Epoch 25, CIFAR-10 Batch 5:  Cost = 0.9683094024658203 - Validation Accuracy = 0.5739999413490295\n",
      "Epoch 26, CIFAR-10 Batch 1:  Cost = 1.0216660499572754 - Validation Accuracy = 0.5771998763084412\n",
      "Epoch 26, CIFAR-10 Batch 2:  Cost = 0.9912132024765015 - Validation Accuracy = 0.5801998972892761\n",
      "Epoch 26, CIFAR-10 Batch 3:  Cost = 0.9623908996582031 - Validation Accuracy = 0.5781998634338379\n",
      "Epoch 26, CIFAR-10 Batch 4:  Cost = 0.9689767360687256 - Validation Accuracy = 0.573199987411499\n",
      "Epoch 26, CIFAR-10 Batch 5:  Cost = 0.9487772583961487 - Validation Accuracy = 0.5793998837471008\n",
      "Epoch 27, CIFAR-10 Batch 1:  Cost = 1.001366376876831 - Validation Accuracy = 0.5787999629974365\n",
      "Epoch 27, CIFAR-10 Batch 2:  Cost = 0.976486086845398 - Validation Accuracy = 0.579399824142456\n",
      "Epoch 27, CIFAR-10 Batch 3:  Cost = 0.9619107246398926 - Validation Accuracy = 0.5761998891830444\n",
      "Epoch 27, CIFAR-10 Batch 4:  Cost = 0.9427395462989807 - Validation Accuracy = 0.5839999318122864\n",
      "Epoch 27, CIFAR-10 Batch 5:  Cost = 0.9327050447463989 - Validation Accuracy = 0.5793999433517456\n",
      "Epoch 28, CIFAR-10 Batch 1:  Cost = 0.9875873327255249 - Validation Accuracy = 0.5895999670028687\n",
      "Epoch 28, CIFAR-10 Batch 2:  Cost = 0.964587926864624 - Validation Accuracy = 0.5821998715400696\n",
      "Epoch 28, CIFAR-10 Batch 3:  Cost = 0.9300195574760437 - Validation Accuracy = 0.578999936580658\n",
      "Epoch 28, CIFAR-10 Batch 4:  Cost = 0.9461938738822937 - Validation Accuracy = 0.5813999176025391\n",
      "Epoch 28, CIFAR-10 Batch 5:  Cost = 0.9295910000801086 - Validation Accuracy = 0.5767998695373535\n",
      "Epoch 29, CIFAR-10 Batch 1:  Cost = 0.9789760112762451 - Validation Accuracy = 0.5813999176025391\n",
      "Epoch 29, CIFAR-10 Batch 2:  Cost = 0.9533652067184448 - Validation Accuracy = 0.58079993724823\n",
      "Epoch 29, CIFAR-10 Batch 3:  Cost = 0.9227943420410156 - Validation Accuracy = 0.575999915599823\n",
      "Epoch 29, CIFAR-10 Batch 4:  Cost = 0.9294160008430481 - Validation Accuracy = 0.5809999108314514\n",
      "Epoch 29, CIFAR-10 Batch 5:  Cost = 0.92247474193573 - Validation Accuracy = 0.5767999887466431\n",
      "Epoch 30, CIFAR-10 Batch 1:  Cost = 0.9557828903198242 - Validation Accuracy = 0.5823999643325806\n",
      "Epoch 30, CIFAR-10 Batch 2:  Cost = 0.9539780020713806 - Validation Accuracy = 0.5771999359130859\n",
      "Epoch 30, CIFAR-10 Batch 3:  Cost = 0.9054247736930847 - Validation Accuracy = 0.5835999250411987\n",
      "Epoch 30, CIFAR-10 Batch 4:  Cost = 0.9168760776519775 - Validation Accuracy = 0.5841999650001526\n",
      "Epoch 30, CIFAR-10 Batch 5:  Cost = 0.9095874428749084 - Validation Accuracy = 0.5783998966217041\n",
      "Epoch 31, CIFAR-10 Batch 1:  Cost = 0.9461938142776489 - Validation Accuracy = 0.5895999670028687\n",
      "Epoch 31, CIFAR-10 Batch 2:  Cost = 0.9170543551445007 - Validation Accuracy = 0.5853999853134155\n",
      "Epoch 31, CIFAR-10 Batch 3:  Cost = 0.8971095681190491 - Validation Accuracy = 0.5899999141693115\n",
      "Epoch 31, CIFAR-10 Batch 4:  Cost = 0.8942232131958008 - Validation Accuracy = 0.5881998538970947\n",
      "Epoch 31, CIFAR-10 Batch 5:  Cost = 0.8990935683250427 - Validation Accuracy = 0.5851999521255493\n",
      "Epoch 32, CIFAR-10 Batch 1:  Cost = 0.9284381866455078 - Validation Accuracy = 0.589199960231781\n",
      "Epoch 32, CIFAR-10 Batch 2:  Cost = 0.9227373003959656 - Validation Accuracy = 0.5879998803138733\n",
      "Epoch 32, CIFAR-10 Batch 3:  Cost = 0.8838563561439514 - Validation Accuracy = 0.5897998809814453\n",
      "Epoch 32, CIFAR-10 Batch 4:  Cost = 0.8837103247642517 - Validation Accuracy = 0.5829999446868896\n",
      "Epoch 32, CIFAR-10 Batch 5:  Cost = 0.8782354593276978 - Validation Accuracy = 0.5847999453544617\n",
      "Epoch 33, CIFAR-10 Batch 1:  Cost = 0.9166650176048279 - Validation Accuracy = 0.5883998870849609\n",
      "Epoch 33, CIFAR-10 Batch 2:  Cost = 0.9028717279434204 - Validation Accuracy = 0.5825998783111572\n",
      "Epoch 33, CIFAR-10 Batch 3:  Cost = 0.8753699660301208 - Validation Accuracy = 0.5939999222755432\n",
      "Epoch 33, CIFAR-10 Batch 4:  Cost = 0.8843486905097961 - Validation Accuracy = 0.5911999344825745\n",
      "Epoch 33, CIFAR-10 Batch 5:  Cost = 0.8598656058311462 - Validation Accuracy = 0.5855998992919922\n",
      "Epoch 34, CIFAR-10 Batch 1:  Cost = 0.9161929488182068 - Validation Accuracy = 0.5931999087333679\n",
      "Epoch 34, CIFAR-10 Batch 2:  Cost = 0.8927243947982788 - Validation Accuracy = 0.5867998600006104\n",
      "Epoch 34, CIFAR-10 Batch 3:  Cost = 0.867206871509552 - Validation Accuracy = 0.5877999067306519\n"
     ]
    },
    {
     "name": "stdout",
     "output_type": "stream",
     "text": [
      "Epoch 34, CIFAR-10 Batch 4:  Cost = 0.8585305213928223 - Validation Accuracy = 0.589199960231781\n",
      "Epoch 34, CIFAR-10 Batch 5:  Cost = 0.8443418145179749 - Validation Accuracy = 0.5887999534606934\n",
      "Epoch 35, CIFAR-10 Batch 1:  Cost = 0.9058893918991089 - Validation Accuracy = 0.5927999019622803\n",
      "Epoch 35, CIFAR-10 Batch 2:  Cost = 0.8780505061149597 - Validation Accuracy = 0.5893999338150024\n",
      "Epoch 35, CIFAR-10 Batch 3:  Cost = 0.8480296730995178 - Validation Accuracy = 0.5923998951911926\n",
      "Epoch 35, CIFAR-10 Batch 4:  Cost = 0.8531144261360168 - Validation Accuracy = 0.5887998938560486\n",
      "Epoch 35, CIFAR-10 Batch 5:  Cost = 0.8444865942001343 - Validation Accuracy = 0.5817999243736267\n",
      "Epoch 36, CIFAR-10 Batch 1:  Cost = 0.8998984098434448 - Validation Accuracy = 0.593799889087677\n",
      "Epoch 36, CIFAR-10 Batch 2:  Cost = 0.8541643023490906 - Validation Accuracy = 0.5903999209403992\n",
      "Epoch 36, CIFAR-10 Batch 3:  Cost = 0.8400304317474365 - Validation Accuracy = 0.5939999222755432\n",
      "Epoch 36, CIFAR-10 Batch 4:  Cost = 0.8350176811218262 - Validation Accuracy = 0.5891999006271362\n",
      "Epoch 36, CIFAR-10 Batch 5:  Cost = 0.8287832736968994 - Validation Accuracy = 0.5847998857498169\n",
      "Epoch 37, CIFAR-10 Batch 1:  Cost = 0.8716023564338684 - Validation Accuracy = 0.5911999344825745\n",
      "Epoch 37, CIFAR-10 Batch 2:  Cost = 0.8485015034675598 - Validation Accuracy = 0.5879999399185181\n",
      "Epoch 37, CIFAR-10 Batch 3:  Cost = 0.8326680660247803 - Validation Accuracy = 0.5811998844146729\n",
      "Epoch 37, CIFAR-10 Batch 4:  Cost = 0.8253850936889648 - Validation Accuracy = 0.5911999344825745\n",
      "Epoch 37, CIFAR-10 Batch 5:  Cost = 0.8231649398803711 - Validation Accuracy = 0.5891999006271362\n",
      "Epoch 38, CIFAR-10 Batch 1:  Cost = 0.8714098930358887 - Validation Accuracy = 0.598599910736084\n",
      "Epoch 38, CIFAR-10 Batch 2:  Cost = 0.8378889560699463 - Validation Accuracy = 0.5945999026298523\n",
      "Epoch 38, CIFAR-10 Batch 3:  Cost = 0.8268207907676697 - Validation Accuracy = 0.5901999473571777\n",
      "Epoch 38, CIFAR-10 Batch 4:  Cost = 0.8023333549499512 - Validation Accuracy = 0.5951998829841614\n",
      "Epoch 38, CIFAR-10 Batch 5:  Cost = 0.8092445135116577 - Validation Accuracy = 0.5871999263763428\n",
      "Epoch 39, CIFAR-10 Batch 1:  Cost = 0.8461179137229919 - Validation Accuracy = 0.6009998917579651\n",
      "Epoch 39, CIFAR-10 Batch 2:  Cost = 0.8262906074523926 - Validation Accuracy = 0.5997998714447021\n",
      "Epoch 39, CIFAR-10 Batch 3:  Cost = 0.8021374940872192 - Validation Accuracy = 0.5889999270439148\n",
      "Epoch 39, CIFAR-10 Batch 4:  Cost = 0.7947789430618286 - Validation Accuracy = 0.5917999148368835\n",
      "Epoch 39, CIFAR-10 Batch 5:  Cost = 0.7937312722206116 - Validation Accuracy = 0.5837998986244202\n",
      "Epoch 40, CIFAR-10 Batch 1:  Cost = 0.846674382686615 - Validation Accuracy = 0.5919999480247498\n",
      "Epoch 40, CIFAR-10 Batch 2:  Cost = 0.8111801743507385 - Validation Accuracy = 0.5917999744415283\n",
      "Epoch 40, CIFAR-10 Batch 3:  Cost = 0.799978494644165 - Validation Accuracy = 0.5925999283790588\n",
      "Epoch 40, CIFAR-10 Batch 4:  Cost = 0.7898840308189392 - Validation Accuracy = 0.5887999534606934\n",
      "Epoch 40, CIFAR-10 Batch 5:  Cost = 0.7865594625473022 - Validation Accuracy = 0.5905998945236206\n",
      "Epoch 41, CIFAR-10 Batch 1:  Cost = 0.8333693146705627 - Validation Accuracy = 0.5989999771118164\n",
      "Epoch 41, CIFAR-10 Batch 2:  Cost = 0.8095043897628784 - Validation Accuracy = 0.5879998803138733\n",
      "Epoch 41, CIFAR-10 Batch 3:  Cost = 0.8061268329620361 - Validation Accuracy = 0.5859999060630798\n",
      "Epoch 41, CIFAR-10 Batch 4:  Cost = 0.7817072868347168 - Validation Accuracy = 0.5897998809814453\n",
      "Epoch 41, CIFAR-10 Batch 5:  Cost = 0.7801182270050049 - Validation Accuracy = 0.5851998925209045\n",
      "Epoch 42, CIFAR-10 Batch 1:  Cost = 0.8117052316665649 - Validation Accuracy = 0.5947999358177185\n",
      "Epoch 42, CIFAR-10 Batch 2:  Cost = 0.7983958125114441 - Validation Accuracy = 0.5931999683380127\n",
      "Epoch 42, CIFAR-10 Batch 3:  Cost = 0.7771733403205872 - Validation Accuracy = 0.5913999676704407\n",
      "Epoch 42, CIFAR-10 Batch 4:  Cost = 0.7692030668258667 - Validation Accuracy = 0.5929999351501465\n",
      "Epoch 42, CIFAR-10 Batch 5:  Cost = 0.7687333226203918 - Validation Accuracy = 0.5877999067306519\n",
      "Epoch 43, CIFAR-10 Batch 1:  Cost = 0.8288691639900208 - Validation Accuracy = 0.5885999202728271\n",
      "Epoch 43, CIFAR-10 Batch 2:  Cost = 0.7815079689025879 - Validation Accuracy = 0.5913999080657959\n",
      "Epoch 43, CIFAR-10 Batch 3:  Cost = 0.7807729840278625 - Validation Accuracy = 0.5947998762130737\n",
      "Epoch 43, CIFAR-10 Batch 4:  Cost = 0.7589139342308044 - Validation Accuracy = 0.5917999148368835\n",
      "Epoch 43, CIFAR-10 Batch 5:  Cost = 0.7562041878700256 - Validation Accuracy = 0.5915999412536621\n",
      "Epoch 44, CIFAR-10 Batch 1:  Cost = 0.8011020421981812 - Validation Accuracy = 0.5961999297142029\n",
      "Epoch 44, CIFAR-10 Batch 2:  Cost = 0.7587062120437622 - Validation Accuracy = 0.5897999405860901\n",
      "Epoch 44, CIFAR-10 Batch 3:  Cost = 0.77394038438797 - Validation Accuracy = 0.5913999080657959\n",
      "Epoch 44, CIFAR-10 Batch 4:  Cost = 0.7440658807754517 - Validation Accuracy = 0.5899999141693115\n",
      "Epoch 44, CIFAR-10 Batch 5:  Cost = 0.7547758221626282 - Validation Accuracy = 0.5877999067306519\n",
      "Epoch 45, CIFAR-10 Batch 1:  Cost = 0.7959540486335754 - Validation Accuracy = 0.591999888420105\n",
      "Epoch 45, CIFAR-10 Batch 2:  Cost = 0.7634559869766235 - Validation Accuracy = 0.590799868106842\n",
      "Epoch 45, CIFAR-10 Batch 3:  Cost = 0.756584107875824 - Validation Accuracy = 0.5937999486923218\n",
      "Epoch 45, CIFAR-10 Batch 4:  Cost = 0.7313045263290405 - Validation Accuracy = 0.5933998823165894\n",
      "Epoch 45, CIFAR-10 Batch 5:  Cost = 0.7388785481452942 - Validation Accuracy = 0.5839998722076416\n",
      "Epoch 46, CIFAR-10 Batch 1:  Cost = 0.787562370300293 - Validation Accuracy = 0.5943999290466309\n",
      "Epoch 46, CIFAR-10 Batch 2:  Cost = 0.7575290203094482 - Validation Accuracy = 0.5945999622344971\n",
      "Epoch 46, CIFAR-10 Batch 3:  Cost = 0.7453576326370239 - Validation Accuracy = 0.5961999297142029\n",
      "Epoch 46, CIFAR-10 Batch 4:  Cost = 0.7282383441925049 - Validation Accuracy = 0.5887998938560486\n",
      "Epoch 46, CIFAR-10 Batch 5:  Cost = 0.7303693890571594 - Validation Accuracy = 0.5851999521255493\n",
      "Epoch 47, CIFAR-10 Batch 1:  Cost = 0.7770934104919434 - Validation Accuracy = 0.5967998504638672\n",
      "Epoch 47, CIFAR-10 Batch 2:  Cost = 0.7490729689598083 - Validation Accuracy = 0.5939999222755432\n",
      "Epoch 47, CIFAR-10 Batch 3:  Cost = 0.7379390001296997 - Validation Accuracy = 0.593799889087677\n",
      "Epoch 47, CIFAR-10 Batch 4:  Cost = 0.7184463739395142 - Validation Accuracy = 0.5937999486923218\n",
      "Epoch 47, CIFAR-10 Batch 5:  Cost = 0.7100273966789246 - Validation Accuracy = 0.5829999446868896\n",
      "Epoch 48, CIFAR-10 Batch 1:  Cost = 0.7636395692825317 - Validation Accuracy = 0.598599910736084\n",
      "Epoch 48, CIFAR-10 Batch 2:  Cost = 0.7238633632659912 - Validation Accuracy = 0.5931999683380127\n",
      "Epoch 48, CIFAR-10 Batch 3:  Cost = 0.7311703562736511 - Validation Accuracy = 0.591999888420105\n",
      "Epoch 48, CIFAR-10 Batch 4:  Cost = 0.7164836525917053 - Validation Accuracy = 0.5921999216079712\n",
      "Epoch 48, CIFAR-10 Batch 5:  Cost = 0.7021350264549255 - Validation Accuracy = 0.5867999196052551\n",
      "Epoch 49, CIFAR-10 Batch 1:  Cost = 0.7518606185913086 - Validation Accuracy = 0.5945999622344971\n",
      "Epoch 49, CIFAR-10 Batch 2:  Cost = 0.7322375774383545 - Validation Accuracy = 0.5901999473571777\n",
      "Epoch 49, CIFAR-10 Batch 3:  Cost = 0.7158246040344238 - Validation Accuracy = 0.5895999073982239\n",
      "Epoch 49, CIFAR-10 Batch 4:  Cost = 0.7061353921890259 - Validation Accuracy = 0.5871999263763428\n",
      "Epoch 49, CIFAR-10 Batch 5:  Cost = 0.6981683373451233 - Validation Accuracy = 0.5939999222755432\n",
      "Epoch 50, CIFAR-10 Batch 1:  Cost = 0.7418831586837769 - Validation Accuracy = 0.5911999344825745\n",
      "Epoch 50, CIFAR-10 Batch 2:  Cost = 0.7213963866233826 - Validation Accuracy = 0.59579998254776\n",
      "Epoch 50, CIFAR-10 Batch 3:  Cost = 0.6869469285011292 - Validation Accuracy = 0.5967998504638672\n",
      "Epoch 50, CIFAR-10 Batch 4:  Cost = 0.6866172552108765 - Validation Accuracy = 0.5931999087333679\n",
      "Epoch 50, CIFAR-10 Batch 5:  Cost = 0.6880919933319092 - Validation Accuracy = 0.5901999473571777\n"
     ]
    }
   ],
   "source": [
    "\"\"\"\n",
    "DON'T MODIFY ANYTHING IN THIS CELL\n",
    "\"\"\"\n",
    "save_model_path = './image_classification'\n",
    "\n",
    "print('Training...')\n",
    "with tf.Session() as sess:\n",
    "    # Initializing the variables\n",
    "    sess.run(tf.global_variables_initializer())\n",
    "    \n",
    "    # Training cycle\n",
    "    for epoch in range(epochs):\n",
    "        # Loop over all batches\n",
    "        n_batches = 5\n",
    "        for batch_i in range(1, n_batches + 1):\n",
    "            for batch_features, batch_labels in helper.load_preprocess_training_batch(batch_i, batch_size):\n",
    "                train_neural_network(sess, optimizer, keep_probability, batch_features, batch_labels)\n",
    "            print('Epoch {:>2}, CIFAR-10 Batch {}:  '.format(epoch + 1, batch_i), end='')\n",
    "            print_stats(sess, batch_features, batch_labels, cost, accuracy)\n",
    "            \n",
    "    # Save Model\n",
    "    saver = tf.train.Saver()\n",
    "    save_path = saver.save(sess, save_model_path)"
   ]
  },
  {
   "cell_type": "markdown",
   "metadata": {},
   "source": [
    "# Checkpoint\n",
    "The model has been saved to disk.\n",
    "## Test Model\n",
    "Test your model against the test dataset.  This will be your final accuracy. You should have an accuracy greater than 50%. If you don't, keep tweaking the model architecture and parameters."
   ]
  },
  {
   "cell_type": "code",
   "execution_count": 53,
   "metadata": {},
   "outputs": [
    {
     "name": "stdout",
     "output_type": "stream",
     "text": [
      "INFO:tensorflow:Restoring parameters from ./image_classification\n",
      "Testing Accuracy: 0.5903340160846711\n",
      "\n"
     ]
    },
    {
     "data": {
      "image/png": "[encoded data removed]",
      "text/plain": [
       "<matplotlib.figure.Figure at 0x7f15287ad048>"
      ]
     },
     "metadata": {
      "image/png": {
       "height": 319,
       "width": 355
      }
     },
     "output_type": "display_data"
    }
   ],
   "source": [
    "\"\"\"\n",
    "DON'T MODIFY ANYTHING IN THIS CELL\n",
    "\"\"\"\n",
    "%matplotlib inline\n",
    "%config InlineBackend.figure_format = 'retina'\n",
    "\n",
    "import tensorflow as tf\n",
    "import pickle\n",
    "import helper\n",
    "import random\n",
    "\n",
    "# Set batch size if not already set\n",
    "try:\n",
    "    if batch_size:\n",
    "        pass\n",
    "except NameError:\n",
    "    batch_size = 64\n",
    "\n",
    "save_model_path = './image_classification'\n",
    "n_samples = 4\n",
    "top_n_predictions = 3\n",
    "\n",
    "def test_model():\n",
    "    \"\"\"\n",
    "    Test the saved model against the test dataset\n",
    "    \"\"\"\n",
    "\n",
    "    test_features, test_labels = pickle.load(open('preprocess_test.p', mode='rb'))\n",
    "    loaded_graph = tf.Graph()\n",
    "\n",
    "    with tf.Session(graph=loaded_graph) as sess:\n",
    "        # Load model\n",
    "        loader = tf.train.import_meta_graph(save_model_path + '.meta')\n",
    "        loader.restore(sess, save_model_path)\n",
    "\n",
    "        # Get Tensors from loaded model\n",
    "        loaded_x = loaded_graph.get_tensor_by_name('x:0')\n",
    "        loaded_y = loaded_graph.get_tensor_by_name('y:0')\n",
    "        loaded_keep_prob = loaded_graph.get_tensor_by_name('keep_prob:0')\n",
    "        loaded_logits = loaded_graph.get_tensor_by_name('logits:0')\n",
    "        loaded_acc = loaded_graph.get_tensor_by_name('accuracy:0')\n",
    "        \n",
    "        # Get accuracy in batches for memory limitations\n",
    "        test_batch_acc_total = 0\n",
    "        test_batch_count = 0\n",
    "        \n",
    "        for test_feature_batch, test_label_batch in helper.batch_features_labels(test_features, test_labels, batch_size):\n",
    "            test_batch_acc_total += sess.run(\n",
    "                loaded_acc,\n",
    "                feed_dict={loaded_x: test_feature_batch, loaded_y: test_label_batch, loaded_keep_prob: 1.0})\n",
    "            test_batch_count += 1\n",
    "\n",
    "        print('Testing Accuracy: {}\\n'.format(test_batch_acc_total/test_batch_count))\n",
    "\n",
    "        # Print Random Samples\n",
    "        random_test_features, random_test_labels = tuple(zip(*random.sample(list(zip(test_features, test_labels)), n_samples)))\n",
    "        random_test_predictions = sess.run(\n",
    "            tf.nn.top_k(tf.nn.softmax(loaded_logits), top_n_predictions),\n",
    "            feed_dict={loaded_x: random_test_features, loaded_y: random_test_labels, loaded_keep_prob: 1.0})\n",
    "        helper.display_image_predictions(random_test_features, random_test_labels, random_test_predictions)\n",
    "\n",
    "\n",
    "test_model()"
   ]
  },
  {
   "cell_type": "markdown",
   "metadata": {},
   "source": [
    "## Why 50-80% Accuracy?\n",
    "You might be wondering why you can't get an accuracy any higher. First things first, 50% isn't bad for a simple CNN.  Pure guessing would get you 10% accuracy. However, you might notice people are getting scores [well above 80%](http://rodrigob.github.io/are_we_there_yet/build/classification_datasets_results.html#43494641522d3130).  That's because we haven't taught you all there is to know about neural networks. We still need to cover a few more techniques.\n",
    "## Submitting This Project\n",
    "When submitting this project, make sure to run all the cells before saving the notebook.  Save the notebook file as \"dlnd_image_classification.ipynb\" and save it as a HTML file under \"File\" -> \"Download as\".  Include the \"helper.py\" and \"problem_unittests.py\" files in your submission."
   ]
  }
 ],
 "metadata": {
  "kernelspec": {
   "display_name": "Python 3",
   "language": "python",
   "name": "python3"
  },
  "language_info": {
   "codemirror_mode": {
    "name": "ipython",
    "version": 3
   },
   "file_extension": ".py",
   "mimetype": "text/x-python",
   "name": "python",
   "nbconvert_exporter": "python",
   "pygments_lexer": "ipython3",
   "version": "3.5.3"
  }
 },
 "nbformat": 4,
 "nbformat_minor": 1
}
